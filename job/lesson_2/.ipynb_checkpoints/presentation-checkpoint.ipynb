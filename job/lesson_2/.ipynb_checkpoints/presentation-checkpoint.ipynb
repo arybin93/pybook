{
 "cells": [
  {
   "cell_type": "markdown",
   "metadata": {
    "slideshow": {
     "slide_type": "slide"
    }
   },
   "source": [
    "![title](image/KGrV41o.png)"
   ]
  },
  {
   "attachments": {},
   "cell_type": "markdown",
   "metadata": {
    "slideshow": {
     "slide_type": "subslide"
    }
   },
   "source": [
    "# Инструмент для разработки\n",
    "1. Sublime Text\n",
    "2. PyCharm\n",
    "3. Atom\n",
    "4. ..."
   ]
  },
  {
   "cell_type": "markdown",
   "metadata": {
    "slideshow": {
     "slide_type": "subslide"
    }
   },
   "source": [
    "# Sublime Text: Установка\n",
    "![title](image/sublime-text-logo.jpg)"
   ]
  },
  {
   "cell_type": "markdown",
   "metadata": {
    "slideshow": {
     "slide_type": "slide"
    }
   },
   "source": [
    "# Практика"
   ]
  },
  {
   "cell_type": "markdown",
   "metadata": {
    "slideshow": {
     "slide_type": "subslide"
    }
   },
   "source": [
    "1. Создать файл с разрешением .py  \n",
    "Открыть Sublime Text 3 -> New File -> test.py"
   ]
  },
  {
   "cell_type": "markdown",
   "metadata": {
    "slideshow": {
     "slide_type": "fragment"
    }
   },
   "source": [
    "2. В созданном файле набрать:"
   ]
  },
  {
   "cell_type": "code",
   "execution_count": 1,
   "metadata": {
    "slideshow": {
     "slide_type": "fragment"
    }
   },
   "outputs": [
    {
     "name": "stdout",
     "output_type": "stream",
     "text": [
      "Start script\n"
     ]
    }
   ],
   "source": [
    " print(\"Start script\")"
   ]
  },
  {
   "cell_type": "markdown",
   "metadata": {
    "slideshow": {
     "slide_type": "fragment"
    }
   },
   "source": [
    "3. Сохранить файл, открыть консоль и запустить наш скрипт"
   ]
  },
  {
   "cell_type": "markdown",
   "metadata": {
    "slideshow": {
     "slide_type": "fragment"
    }
   },
   "source": [
    "python test.py"
   ]
  },
  {
   "cell_type": "markdown",
   "metadata": {
    "slideshow": {
     "slide_type": "subslide"
    }
   },
   "source": [
    "![title](image/yu81pk.jpg)"
   ]
  },
  {
   "cell_type": "markdown",
   "metadata": {
    "slideshow": {
     "slide_type": "slide"
    }
   },
   "source": [
    "# Конвертер валют, рубли в доллары"
   ]
  },
  {
   "cell_type": "code",
   "execution_count": 26,
   "metadata": {
    "slideshow": {
     "slide_type": "subslide"
    }
   },
   "outputs": [],
   "source": [
    "# создадим переменную отвечающую за текущий курс доллара в рублях\n",
    "dollar_in_rub = 66.42"
   ]
  },
  {
   "cell_type": "code",
   "execution_count": 27,
   "metadata": {
    "slideshow": {
     "slide_type": "fragment"
    }
   },
   "outputs": [],
   "source": [
    "# создадим переменную, сколько мы хотим перевести рублей в доллары \n",
    "rubles = 1000"
   ]
  },
  {
   "cell_type": "code",
   "execution_count": 28,
   "metadata": {
    "slideshow": {
     "slide_type": "fragment"
    }
   },
   "outputs": [
    {
     "name": "stdout",
     "output_type": "stream",
     "text": [
      "15.055706112616681\n"
     ]
    }
   ],
   "source": [
    "# расчёт, сколько это долларов\n",
    "result = rubles / dollar_in_rub\n",
    "print(result)"
   ]
  },
  {
   "cell_type": "markdown",
   "metadata": {
    "slideshow": {
     "slide_type": "fragment"
    }
   },
   "source": [
    "### Вопрос: что если нам потребуется перевести разные суммы?"
   ]
  },
  {
   "cell_type": "markdown",
   "metadata": {
    "slideshow": {
     "slide_type": "subslide"
    }
   },
   "source": [
    "1. Повторять код для нужного количества сумм.  \n",
    "или\n",
    "2. Каждый раз изменять значение rubles и перезапускать код  \n",
    "\n"
   ]
  },
  {
   "cell_type": "markdown",
   "metadata": {
    "slideshow": {
     "slide_type": "slide"
    }
   },
   "source": [
    "# Синтаксис, первая функция\n",
    "![title](image/0wap3cp4khm01.jpg)"
   ]
  },
  {
   "cell_type": "code",
   "execution_count": 16,
   "metadata": {
    "slideshow": {
     "slide_type": "subslide"
    }
   },
   "outputs": [],
   "source": [
    "def my_sum(a, b):\n",
    "    ''' Function for sum '''\n",
    "    return a + b"
   ]
  },
  {
   "cell_type": "code",
   "execution_count": 79,
   "metadata": {
    "slideshow": {
     "slide_type": "fragment"
    }
   },
   "outputs": [
    {
     "data": {
      "text/plain": [
       "4"
      ]
     },
     "execution_count": 79,
     "metadata": {},
     "output_type": "execute_result"
    }
   ],
   "source": [
    "my_sum(1, 3)"
   ]
  },
  {
   "cell_type": "markdown",
   "metadata": {
    "slideshow": {
     "slide_type": "subslide"
    }
   },
   "source": [
    "### Функция конвертер, рубли в доллары"
   ]
  },
  {
   "cell_type": "code",
   "execution_count": 41,
   "metadata": {
    "slideshow": {
     "slide_type": "fragment"
    }
   },
   "outputs": [
    {
     "name": "stdout",
     "output_type": "stream",
     "text": [
      "15.055706112616681\n"
     ]
    }
   ],
   "source": [
    "# У нас есть такой код, нужно переписать его в виде функции\n",
    "dollar_in_rub = 66.42 # это будет второй параметр\n",
    "rubles = 1000 #  это будет первый параметр\n",
    "result = rubles / dollar_in_rub # тело функции\n",
    "print(result)"
   ]
  },
  {
   "cell_type": "code",
   "execution_count": 42,
   "metadata": {
    "slideshow": {
     "slide_type": "fragment"
    }
   },
   "outputs": [],
   "source": [
    "dollar_in_rub = 66.42\n",
    "\n",
    "def rub_to_dol(rubles, dollar_in_rub=65):\n",
    "    \"\"\" Converter rubles to dollars \"\"\"\n",
    "    return rubles / dollar_in_rub"
   ]
  },
  {
   "cell_type": "code",
   "execution_count": 43,
   "metadata": {
    "slideshow": {
     "slide_type": "fragment"
    }
   },
   "outputs": [
    {
     "name": "stdout",
     "output_type": "stream",
     "text": [
      "15.055706112616681\n",
      "37.639265281541704\n"
     ]
    }
   ],
   "source": [
    "result = rub_to_dol(1000)\n",
    "print(result)\n",
    "result = rub_to_dol(2500, dollar_in_rub)\n",
    "print(result)"
   ]
  },
  {
   "cell_type": "code",
   "execution_count": 44,
   "metadata": {
    "slideshow": {
     "slide_type": "fragment"
    }
   },
   "outputs": [
    {
     "name": "stdout",
     "output_type": "stream",
     "text": [
      "37.64\n"
     ]
    }
   ],
   "source": [
    "# Встроенная функция round для округления\n",
    "res = round(result, 2)\n",
    "print(res)"
   ]
  },
  {
   "cell_type": "code",
   "execution_count": 55,
   "metadata": {
    "slideshow": {
     "slide_type": "subslide"
    }
   },
   "outputs": [
    {
     "name": "stdout",
     "output_type": "stream",
     "text": [
      "123.07692\n",
      "120.44565\n"
     ]
    }
   ],
   "source": [
    "dollar_in_rub = 66.42\n",
    "\n",
    "# наша итоговая функция\n",
    "def rub_to_dol(rubles, dollar_in_rub=65):\n",
    "    \"\"\" Converter rubles to dollars \"\"\"\n",
    "    return round(rubles / dollar_in_rub, 5)\n",
    "\n",
    "res_1 = rub_to_dol(8000)\n",
    "print(res_1)\n",
    "res_2 = rub_to_dol(8000, dollar_in_rub)\n",
    "print(res_2)"
   ]
  },
  {
   "cell_type": "markdown",
   "metadata": {
    "slideshow": {
     "slide_type": "slide"
    }
   },
   "source": [
    "## Запись в файл"
   ]
  },
  {
   "cell_type": "code",
   "execution_count": 57,
   "metadata": {
    "slideshow": {
     "slide_type": "subslide"
    }
   },
   "outputs": [],
   "source": [
    "# открываем файл\n",
    "file = open('file.txt', 'w')\n",
    "# 'r' - открытие на чтение (является значением по умолчанию).\n",
    "# 'w' - открытие на запись, содержимое файла удаляется, если файла не существует, создается новый.\n",
    "# 'a' - открытие на дозапись, информация добавляется в конец файла.\n",
    "\n",
    "# запись в файл, принимает только строки ''\n",
    "file.write('Hello')\n",
    "\n",
    "# закрыть файл\n",
    "file.close()"
   ]
  },
  {
   "cell_type": "code",
   "execution_count": 59,
   "metadata": {
    "slideshow": {
     "slide_type": "fragment"
    }
   },
   "outputs": [
    {
     "data": {
      "text/plain": [
       "'123'"
      ]
     },
     "execution_count": 59,
     "metadata": {},
     "output_type": "execute_result"
    }
   ],
   "source": [
    "# Для преобразование в строку, можно использовать функцию str\n",
    "str(123)"
   ]
  },
  {
   "cell_type": "markdown",
   "metadata": {
    "slideshow": {
     "slide_type": "fragment"
    }
   },
   "source": [
    "### Задача, написать функцию для дозаписи в файл какого-либо значения"
   ]
  },
  {
   "cell_type": "code",
   "execution_count": 73,
   "metadata": {
    "slideshow": {
     "slide_type": "subslide"
    }
   },
   "outputs": [],
   "source": [
    "def save_to_file(data, file_name='file.txt'):\n",
    "    \"\"\" Save data to file \"\"\"\n",
    "    file = open(file_name, 'a')\n",
    "    \n",
    "    data_str = str(data)\n",
    "    \n",
    "    file.write(data_str)\n",
    "    file.close()\n",
    "\n",
    "save_to_file(123)"
   ]
  },
  {
   "cell_type": "code",
   "execution_count": 74,
   "metadata": {
    "slideshow": {
     "slide_type": "fragment"
    }
   },
   "outputs": [
    {
     "data": {
      "text/plain": [
       "'1.23\\n'"
      ]
     },
     "execution_count": 74,
     "metadata": {},
     "output_type": "execute_result"
    }
   ],
   "source": [
    "# для переноса строки можно использовать символ \\n, например\n",
    "str(1.23) + '\\n'"
   ]
  },
  {
   "cell_type": "code",
   "execution_count": 77,
   "metadata": {
    "slideshow": {
     "slide_type": "subslide"
    }
   },
   "outputs": [],
   "source": [
    "def save_to_file(data, file_name='file.txt'):\n",
    "    \"\"\" Save data to file \"\"\"\n",
    "    file = open(file_name, 'a')\n",
    "    \n",
    "    # добавили перенос строки\n",
    "    data_str = str(data) + '\\n'\n",
    "    \n",
    "    file.write(data_str)\n",
    "    file.close()\n",
    "\n",
    "save_to_file(123)"
   ]
  },
  {
   "cell_type": "markdown",
   "metadata": {
    "slideshow": {
     "slide_type": "slide"
    }
   },
   "source": [
    "![title](image/i-know-python.jpg)"
   ]
  }
 ],
 "metadata": {
  "celltoolbar": "Slideshow",
  "kernelspec": {
   "display_name": "Python 3",
   "language": "python",
   "name": "python3"
  },
  "language_info": {
   "codemirror_mode": {
    "name": "ipython",
    "version": 3
   },
   "file_extension": ".py",
   "mimetype": "text/x-python",
   "name": "python",
   "nbconvert_exporter": "python",
   "pygments_lexer": "ipython3",
   "version": "3.6.5"
  }
 },
 "nbformat": 4,
 "nbformat_minor": 2
}
