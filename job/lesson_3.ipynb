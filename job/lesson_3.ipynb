{
 "cells": [
  {
   "cell_type": "markdown",
   "metadata": {
    "slideshow": {
     "slide_type": "slide"
    }
   },
   "source": [
    "# Cписки и цикл for\n",
    "![title](images/python-programming-everyone-1473838_9dce_2.jpg)"
   ]
  },
  {
   "cell_type": "code",
   "execution_count": 4,
   "metadata": {
    "slideshow": {
     "slide_type": "subslide"
    }
   },
   "outputs": [],
   "source": [
    "def save_to_file(data, file_name='file.txt'):\n",
    "    \"\"\" Save data to file \"\"\"\n",
    "    file = open(file_name, 'a')\n",
    "    # 'a' - открытие на дозапись, информация добавляется в конец файла.\n",
    "\n",
    "    # добавили перенос строки\n",
    "    data_str = str(data) + '\\n'\n",
    "\n",
    "    file.write(data_str)\n",
    "    file.close()\n",
    "\n",
    "save_to_file(5)\n",
    "save_to_file(10)\n",
    "save_to_file(15)"
   ]
  },
  {
   "cell_type": "code",
   "execution_count": 20,
   "metadata": {
    "slideshow": {
     "slide_type": "subslide"
    }
   },
   "outputs": [],
   "source": [
    "def read_from_file(file_name):\n",
    "    \"\"\" Read from file \"\"\"\n",
    "    file = open(file_name, 'r')\n",
    "    # 'r' - открытие на чтение (является значением по умолчанию).\n",
    "\n",
    "    # contents = file.read()         # считает весь файл в строку\n",
    "    # contents = file.readline()     # считает только одну строку из файла\n",
    "    #contents = file.readlines()      # вернёт список строк\n",
    "    contents = []\n",
    "    for s in file:\n",
    "        contents.append(s)\n",
    "    \n",
    "    return contents"
   ]
  },
  {
   "cell_type": "code",
   "execution_count": 22,
   "metadata": {},
   "outputs": [
    {
     "data": {
      "text/plain": [
       "{'__name__': '__main__',\n",
       " '__doc__': '\\n# генерация списка\\nfor i in range(0, 10, 3): # range от 0 до 9 с шагом 2\\n    new.append(i)\\n\\nprint(new)\\n\\nfor i in range(0, len(new)):\\n    print(new[i])\\n\\nfor i, val in enumerate(new):\\n    print(i, val)\\n',\n",
       " '__package__': None,\n",
       " '__loader__': None,\n",
       " '__spec__': None,\n",
       " '__builtin__': <module 'builtins' (built-in)>,\n",
       " '__builtins__': <module 'builtins' (built-in)>,\n",
       " '_ih': ['',\n",
       "  'lst = [1, 2, 3, 4, 5]    # пустой список',\n",
       "  'lst = [1, 2, 3, 4, 5]    # пустой список\\nprint(lst)',\n",
       "  'lst1 = [] * 10',\n",
       "  'lst1 = [] * 10\\nprint(lst1)',\n",
       "  \"lst = list('python')\\nprint(lst)\",\n",
       "  \"lst = [None] * 5\\nprint(lst)\\n\\nlst = list('python')\\nprint(lst)\",\n",
       "  \"lst = [None] * 5\\n\\nlst[3] = 5\\nprint(lst)\\n\\nlst = list('python')\\nprint(lst)\",\n",
       "  'new = []\\n\\n# генерация списка\\nfor i in range(10): # range от 0 до 9 с шагом 2\\n    new.append(i)\\n\\nprint(new)\\n\\n# проход по списку\\nfor i in new:\\n    save_to_file(i)             ',\n",
       "  'new = []\\n\\n# генерация списка\\nfor i in range(10): # range от 0 до 9 с шагом 2\\n    new.append(i)\\n\\nprint(new)\\n\\n# проход по списку\\n#for i in new:\\n#    save_to_file(i)             ',\n",
       "  'new = []\\n\\n# генерация списка\\nfor i in range(0, 10, 3): # range от 0 до 9 с шагом 2\\n    new.append(i)\\n\\nprint(new)\\n\\n# проход по списку\\n#for i in new:\\n#    save_to_file(i)             ',\n",
       "  'new = []\\n\\n# генерация списка\\nfor i in range(0, 10, 3): # range от 0 до 9 с шагом 2\\n    new.append(i)\\n\\nprint(new)\\n\\nfor i in range(0, len(new)):\\n    print(new[i])\\n\\n# проход по списку\\n#for i in new:\\n#    save_to_file(i)             ',\n",
       "  'new = []\\n\\n# генерация списка\\nfor i in range(0, 10, 3): # range от 0 до 9 с шагом 2\\n    new.append(i)\\n\\nprint(new)\\n\\nfor i in range(0, len(new)):\\n    print(new[i])\\n\\nfor i, val in enumerate(new):\\n    print(i, val)\\n    \\n# проход по списку\\n#for i in new:\\n#    save_to_file(i)             ',\n",
       "  \"new = []\\n'''\\n# генерация списка\\nfor i in range(0, 10, 3): # range от 0 до 9 с шагом 2\\n    new.append(i)\\n\\nprint(new)\\n\\nfor i in range(0, len(new)):\\n    print(new[i])\\n\\nfor i, val in enumerate(new):\\n    print(i, val)\\n'''\\n\\nrange(10)\\n    \\n# проход по списку\\n#for i in new:\\n#    save_to_file(i)             \",\n",
       "  \"new = []\\n'''\\n# генерация списка\\nfor i in range(0, 10, 3): # range от 0 до 9 с шагом 2\\n    new.append(i)\\n\\nprint(new)\\n\\nfor i in range(0, len(new)):\\n    print(new[i])\\n\\nfor i, val in enumerate(new):\\n    print(i, val)\\n'''\\n\\nprint(range(10))\\n\\n# проход по списку\\n#for i in new:\\n#    save_to_file(i)             \",\n",
       "  \"new = []\\n'''\\n# генерация списка\\nfor i in range(0, 10, 3): # range от 0 до 9 с шагом 2\\n    new.append(i)\\n\\nprint(new)\\n\\nfor i in range(0, len(new)):\\n    print(new[i])\\n\\nfor i, val in enumerate(new):\\n    print(i, val)\\n'''\\n\\nprint(range(10))\\nprint(type(range(10)))\\n\\n# проход по списку\\n#for i in new:\\n#    save_to_file(i)             \",\n",
       "  \"new = []\\n'''\\n# генерация списка\\nfor i in range(0, 10, 3): # range от 0 до 9 с шагом 2\\n    new.append(i)\\n\\nprint(new)\\n\\nfor i in range(0, len(new)):\\n    print(new[i])\\n\\nfor i, val in enumerate(new):\\n    print(i, val)\\n'''\\n\\nprint(range(10))\\nprint(type(range(10)))\\n\\nfor i in range(10):\\n    print(i)\\n\\n# проход по списку\\n#for i in new:\\n#    save_to_file(i)             \",\n",
       "  \"new = []\\n'''\\n# генерация списка\\nfor i in range(0, 10, 3): # range от 0 до 9 с шагом 2\\n    new.append(i)\\n\\nprint(new)\\n\\nfor i in range(0, len(new)):\\n    print(new[i])\\n\\nfor i, val in enumerate(new):\\n    print(i, val)\\n'''\\n\\nprint(range(10))\\nprint(type(range(10)))\\nprint(list(range(10)))\\n\\nfor i in range(10):\\n    print(i)\\n\\n# проход по списку\\n#for i in new:\\n#    save_to_file(i)             \",\n",
       "  'def read_from_file(file_name):\\n    \"\"\" Read from file \"\"\"\\n    file = open(file_name, \\'r\\')\\n    # \\'r\\' - открытие на чтение (является значением по умолчанию).\\n\\n    # contents = file.read()         # считает весь файл в строку\\n    # contents = file.readline()     # считает только одну строку из файла\\n    #contents = file.readlines()      # вернёт список строк\\n    \\n    for s in file:\\n        print(s)\\n    \\n    return contents',\n",
       "  \"res = read_from_file('file.txt')\\nprint(res)\\nprint(type(res))\",\n",
       "  'def read_from_file(file_name):\\n    \"\"\" Read from file \"\"\"\\n    file = open(file_name, \\'r\\')\\n    # \\'r\\' - открытие на чтение (является значением по умолчанию).\\n\\n    # contents = file.read()         # считает весь файл в строку\\n    # contents = file.readline()     # считает только одну строку из файла\\n    #contents = file.readlines()      # вернёт список строк\\n    contents = []\\n    for s in file:\\n        contents.append(s)\\n    \\n    return contents',\n",
       "  \"res = read_from_file('file.txt')\\nprint(res)\\nprint(type(res))\",\n",
       "  'globals()'],\n",
       " '_oh': {13: range(0, 10)},\n",
       " '_dh': ['C:\\\\LearnPython\\\\pybook\\\\job'],\n",
       " 'In': ['',\n",
       "  'lst = [1, 2, 3, 4, 5]    # пустой список',\n",
       "  'lst = [1, 2, 3, 4, 5]    # пустой список\\nprint(lst)',\n",
       "  'lst1 = [] * 10',\n",
       "  'lst1 = [] * 10\\nprint(lst1)',\n",
       "  \"lst = list('python')\\nprint(lst)\",\n",
       "  \"lst = [None] * 5\\nprint(lst)\\n\\nlst = list('python')\\nprint(lst)\",\n",
       "  \"lst = [None] * 5\\n\\nlst[3] = 5\\nprint(lst)\\n\\nlst = list('python')\\nprint(lst)\",\n",
       "  'new = []\\n\\n# генерация списка\\nfor i in range(10): # range от 0 до 9 с шагом 2\\n    new.append(i)\\n\\nprint(new)\\n\\n# проход по списку\\nfor i in new:\\n    save_to_file(i)             ',\n",
       "  'new = []\\n\\n# генерация списка\\nfor i in range(10): # range от 0 до 9 с шагом 2\\n    new.append(i)\\n\\nprint(new)\\n\\n# проход по списку\\n#for i in new:\\n#    save_to_file(i)             ',\n",
       "  'new = []\\n\\n# генерация списка\\nfor i in range(0, 10, 3): # range от 0 до 9 с шагом 2\\n    new.append(i)\\n\\nprint(new)\\n\\n# проход по списку\\n#for i in new:\\n#    save_to_file(i)             ',\n",
       "  'new = []\\n\\n# генерация списка\\nfor i in range(0, 10, 3): # range от 0 до 9 с шагом 2\\n    new.append(i)\\n\\nprint(new)\\n\\nfor i in range(0, len(new)):\\n    print(new[i])\\n\\n# проход по списку\\n#for i in new:\\n#    save_to_file(i)             ',\n",
       "  'new = []\\n\\n# генерация списка\\nfor i in range(0, 10, 3): # range от 0 до 9 с шагом 2\\n    new.append(i)\\n\\nprint(new)\\n\\nfor i in range(0, len(new)):\\n    print(new[i])\\n\\nfor i, val in enumerate(new):\\n    print(i, val)\\n    \\n# проход по списку\\n#for i in new:\\n#    save_to_file(i)             ',\n",
       "  \"new = []\\n'''\\n# генерация списка\\nfor i in range(0, 10, 3): # range от 0 до 9 с шагом 2\\n    new.append(i)\\n\\nprint(new)\\n\\nfor i in range(0, len(new)):\\n    print(new[i])\\n\\nfor i, val in enumerate(new):\\n    print(i, val)\\n'''\\n\\nrange(10)\\n    \\n# проход по списку\\n#for i in new:\\n#    save_to_file(i)             \",\n",
       "  \"new = []\\n'''\\n# генерация списка\\nfor i in range(0, 10, 3): # range от 0 до 9 с шагом 2\\n    new.append(i)\\n\\nprint(new)\\n\\nfor i in range(0, len(new)):\\n    print(new[i])\\n\\nfor i, val in enumerate(new):\\n    print(i, val)\\n'''\\n\\nprint(range(10))\\n\\n# проход по списку\\n#for i in new:\\n#    save_to_file(i)             \",\n",
       "  \"new = []\\n'''\\n# генерация списка\\nfor i in range(0, 10, 3): # range от 0 до 9 с шагом 2\\n    new.append(i)\\n\\nprint(new)\\n\\nfor i in range(0, len(new)):\\n    print(new[i])\\n\\nfor i, val in enumerate(new):\\n    print(i, val)\\n'''\\n\\nprint(range(10))\\nprint(type(range(10)))\\n\\n# проход по списку\\n#for i in new:\\n#    save_to_file(i)             \",\n",
       "  \"new = []\\n'''\\n# генерация списка\\nfor i in range(0, 10, 3): # range от 0 до 9 с шагом 2\\n    new.append(i)\\n\\nprint(new)\\n\\nfor i in range(0, len(new)):\\n    print(new[i])\\n\\nfor i, val in enumerate(new):\\n    print(i, val)\\n'''\\n\\nprint(range(10))\\nprint(type(range(10)))\\n\\nfor i in range(10):\\n    print(i)\\n\\n# проход по списку\\n#for i in new:\\n#    save_to_file(i)             \",\n",
       "  \"new = []\\n'''\\n# генерация списка\\nfor i in range(0, 10, 3): # range от 0 до 9 с шагом 2\\n    new.append(i)\\n\\nprint(new)\\n\\nfor i in range(0, len(new)):\\n    print(new[i])\\n\\nfor i, val in enumerate(new):\\n    print(i, val)\\n'''\\n\\nprint(range(10))\\nprint(type(range(10)))\\nprint(list(range(10)))\\n\\nfor i in range(10):\\n    print(i)\\n\\n# проход по списку\\n#for i in new:\\n#    save_to_file(i)             \",\n",
       "  'def read_from_file(file_name):\\n    \"\"\" Read from file \"\"\"\\n    file = open(file_name, \\'r\\')\\n    # \\'r\\' - открытие на чтение (является значением по умолчанию).\\n\\n    # contents = file.read()         # считает весь файл в строку\\n    # contents = file.readline()     # считает только одну строку из файла\\n    #contents = file.readlines()      # вернёт список строк\\n    \\n    for s in file:\\n        print(s)\\n    \\n    return contents',\n",
       "  \"res = read_from_file('file.txt')\\nprint(res)\\nprint(type(res))\",\n",
       "  'def read_from_file(file_name):\\n    \"\"\" Read from file \"\"\"\\n    file = open(file_name, \\'r\\')\\n    # \\'r\\' - открытие на чтение (является значением по умолчанию).\\n\\n    # contents = file.read()         # считает весь файл в строку\\n    # contents = file.readline()     # считает только одну строку из файла\\n    #contents = file.readlines()      # вернёт список строк\\n    contents = []\\n    for s in file:\\n        contents.append(s)\\n    \\n    return contents',\n",
       "  \"res = read_from_file('file.txt')\\nprint(res)\\nprint(type(res))\",\n",
       "  'globals()'],\n",
       " 'Out': {13: range(0, 10)},\n",
       " 'get_ipython': <bound method InteractiveShell.get_ipython of <ipykernel.zmqshell.ZMQInteractiveShell object at 0x000001BCFE328550>>,\n",
       " 'exit': <IPython.core.autocall.ZMQExitAutocall at 0x1bcfe33a6d8>,\n",
       " 'quit': <IPython.core.autocall.ZMQExitAutocall at 0x1bcfe33a6d8>,\n",
       " '_': range(0, 10),\n",
       " '__': '',\n",
       " '___': '',\n",
       " '_i': \"res = read_from_file('file.txt')\\nprint(res)\\nprint(type(res))\",\n",
       " '_ii': 'def read_from_file(file_name):\\n    \"\"\" Read from file \"\"\"\\n    file = open(file_name, \\'r\\')\\n    # \\'r\\' - открытие на чтение (является значением по умолчанию).\\n\\n    # contents = file.read()         # считает весь файл в строку\\n    # contents = file.readline()     # считает только одну строку из файла\\n    #contents = file.readlines()      # вернёт список строк\\n    contents = []\\n    for s in file:\\n        contents.append(s)\\n    \\n    return contents',\n",
       " '_iii': \"res = read_from_file('file.txt')\\nprint(res)\\nprint(type(res))\",\n",
       " '_i1': 'lst = [1, 2, 3, 4, 5]    # пустой список',\n",
       " 'lst': ['p', 'y', 't', 'h', 'o', 'n'],\n",
       " '_i2': 'lst = [1, 2, 3, 4, 5]    # пустой список\\nprint(lst)',\n",
       " '_i3': 'lst1 = [] * 10',\n",
       " 'lst1': [],\n",
       " '_i4': 'lst1 = [] * 10\\nprint(lst1)',\n",
       " '_i5': \"lst = list('python')\\nprint(lst)\",\n",
       " '_i6': \"lst = [None] * 5\\nprint(lst)\\n\\nlst = list('python')\\nprint(lst)\",\n",
       " '_i7': \"lst = [None] * 5\\n\\nlst[3] = 5\\nprint(lst)\\n\\nlst = list('python')\\nprint(lst)\",\n",
       " '_i8': 'new = []\\n\\n# генерация списка\\nfor i in range(10): # range от 0 до 9 с шагом 2\\n    new.append(i)\\n\\nprint(new)\\n\\n# проход по списку\\nfor i in new:\\n    save_to_file(i)             ',\n",
       " 'new': [],\n",
       " 'i': 9,\n",
       " '_i9': 'new = []\\n\\n# генерация списка\\nfor i in range(10): # range от 0 до 9 с шагом 2\\n    new.append(i)\\n\\nprint(new)\\n\\n# проход по списку\\n#for i in new:\\n#    save_to_file(i)             ',\n",
       " '_i10': 'new = []\\n\\n# генерация списка\\nfor i in range(0, 10, 3): # range от 0 до 9 с шагом 2\\n    new.append(i)\\n\\nprint(new)\\n\\n# проход по списку\\n#for i in new:\\n#    save_to_file(i)             ',\n",
       " '_i11': 'new = []\\n\\n# генерация списка\\nfor i in range(0, 10, 3): # range от 0 до 9 с шагом 2\\n    new.append(i)\\n\\nprint(new)\\n\\nfor i in range(0, len(new)):\\n    print(new[i])\\n\\n# проход по списку\\n#for i in new:\\n#    save_to_file(i)             ',\n",
       " '_i12': 'new = []\\n\\n# генерация списка\\nfor i in range(0, 10, 3): # range от 0 до 9 с шагом 2\\n    new.append(i)\\n\\nprint(new)\\n\\nfor i in range(0, len(new)):\\n    print(new[i])\\n\\nfor i, val in enumerate(new):\\n    print(i, val)\\n    \\n# проход по списку\\n#for i in new:\\n#    save_to_file(i)             ',\n",
       " 'val': 9,\n",
       " '_i13': \"new = []\\n'''\\n# генерация списка\\nfor i in range(0, 10, 3): # range от 0 до 9 с шагом 2\\n    new.append(i)\\n\\nprint(new)\\n\\nfor i in range(0, len(new)):\\n    print(new[i])\\n\\nfor i, val in enumerate(new):\\n    print(i, val)\\n'''\\n\\nrange(10)\\n    \\n# проход по списку\\n#for i in new:\\n#    save_to_file(i)             \",\n",
       " '_13': range(0, 10),\n",
       " '_i14': \"new = []\\n'''\\n# генерация списка\\nfor i in range(0, 10, 3): # range от 0 до 9 с шагом 2\\n    new.append(i)\\n\\nprint(new)\\n\\nfor i in range(0, len(new)):\\n    print(new[i])\\n\\nfor i, val in enumerate(new):\\n    print(i, val)\\n'''\\n\\nprint(range(10))\\n\\n# проход по списку\\n#for i in new:\\n#    save_to_file(i)             \",\n",
       " '_i15': \"new = []\\n'''\\n# генерация списка\\nfor i in range(0, 10, 3): # range от 0 до 9 с шагом 2\\n    new.append(i)\\n\\nprint(new)\\n\\nfor i in range(0, len(new)):\\n    print(new[i])\\n\\nfor i, val in enumerate(new):\\n    print(i, val)\\n'''\\n\\nprint(range(10))\\nprint(type(range(10)))\\n\\n# проход по списку\\n#for i in new:\\n#    save_to_file(i)             \",\n",
       " '_i16': \"new = []\\n'''\\n# генерация списка\\nfor i in range(0, 10, 3): # range от 0 до 9 с шагом 2\\n    new.append(i)\\n\\nprint(new)\\n\\nfor i in range(0, len(new)):\\n    print(new[i])\\n\\nfor i, val in enumerate(new):\\n    print(i, val)\\n'''\\n\\nprint(range(10))\\nprint(type(range(10)))\\n\\nfor i in range(10):\\n    print(i)\\n\\n# проход по списку\\n#for i in new:\\n#    save_to_file(i)             \",\n",
       " '_i17': \"new = []\\n'''\\n# генерация списка\\nfor i in range(0, 10, 3): # range от 0 до 9 с шагом 2\\n    new.append(i)\\n\\nprint(new)\\n\\nfor i in range(0, len(new)):\\n    print(new[i])\\n\\nfor i, val in enumerate(new):\\n    print(i, val)\\n'''\\n\\nprint(range(10))\\nprint(type(range(10)))\\nprint(list(range(10)))\\n\\nfor i in range(10):\\n    print(i)\\n\\n# проход по списку\\n#for i in new:\\n#    save_to_file(i)             \",\n",
       " '_i18': 'def read_from_file(file_name):\\n    \"\"\" Read from file \"\"\"\\n    file = open(file_name, \\'r\\')\\n    # \\'r\\' - открытие на чтение (является значением по умолчанию).\\n\\n    # contents = file.read()         # считает весь файл в строку\\n    # contents = file.readline()     # считает только одну строку из файла\\n    #contents = file.readlines()      # вернёт список строк\\n    \\n    for s in file:\\n        print(s)\\n    \\n    return contents',\n",
       " 'read_from_file': <function __main__.read_from_file(file_name)>,\n",
       " '_i19': \"res = read_from_file('file.txt')\\nprint(res)\\nprint(type(res))\",\n",
       " '_i20': 'def read_from_file(file_name):\\n    \"\"\" Read from file \"\"\"\\n    file = open(file_name, \\'r\\')\\n    # \\'r\\' - открытие на чтение (является значением по умолчанию).\\n\\n    # contents = file.read()         # считает весь файл в строку\\n    # contents = file.readline()     # считает только одну строку из файла\\n    #contents = file.readlines()      # вернёт список строк\\n    contents = []\\n    for s in file:\\n        contents.append(s)\\n    \\n    return contents',\n",
       " '_i21': \"res = read_from_file('file.txt')\\nprint(res)\\nprint(type(res))\",\n",
       " 'res': ['5\\n',\n",
       "  '10\\n',\n",
       "  '15\\n',\n",
       "  '5\\n',\n",
       "  '10\\n',\n",
       "  '15\\n',\n",
       "  '0\\n',\n",
       "  '2\\n',\n",
       "  '4\\n',\n",
       "  '6\\n',\n",
       "  '8\\n',\n",
       "  '0\\n',\n",
       "  '2\\n',\n",
       "  '4\\n',\n",
       "  '6\\n',\n",
       "  '8\\n'],\n",
       " '_i22': 'globals()'}"
      ]
     },
     "execution_count": 22,
     "metadata": {},
     "output_type": "execute_result"
    }
   ],
   "source": [
    "globals()"
   ]
  },
  {
   "cell_type": "code",
   "execution_count": 21,
   "metadata": {
    "slideshow": {
     "slide_type": "fragment"
    }
   },
   "outputs": [
    {
     "name": "stdout",
     "output_type": "stream",
     "text": [
      "['5\\n', '10\\n', '15\\n', '5\\n', '10\\n', '15\\n', '0\\n', '2\\n', '4\\n', '6\\n', '8\\n', '0\\n', '2\\n', '4\\n', '6\\n', '8\\n']\n",
      "<class 'list'>\n"
     ]
    }
   ],
   "source": [
    "res = read_from_file('file.txt')\n",
    "print(res)\n",
    "print(type(res))"
   ]
  },
  {
   "cell_type": "markdown",
   "metadata": {
    "slideshow": {
     "slide_type": "subslide"
    }
   },
   "source": [
    "## Списки\n",
    "Упорядоченные изменяемые коллекции объектов произвольных типов"
   ]
  },
  {
   "cell_type": "code",
   "execution_count": 2,
   "metadata": {
    "slideshow": {
     "slide_type": "subslide"
    }
   },
   "outputs": [
    {
     "name": "stdout",
     "output_type": "stream",
     "text": [
      "[1, 2, 3, 4, 5]\n"
     ]
    }
   ],
   "source": [
    "lst = [1, 2, 3, 4, 5]    # пустой список\n",
    "print(lst)"
   ]
  },
  {
   "cell_type": "code",
   "execution_count": 7,
   "metadata": {
    "slideshow": {
     "slide_type": "fragment"
    }
   },
   "outputs": [
    {
     "name": "stdout",
     "output_type": "stream",
     "text": [
      "[None, None, None, 5, None]\n",
      "['p', 'y', 't', 'h', 'o', 'n']\n"
     ]
    }
   ],
   "source": [
    "lst = [None] * 5\n",
    "\n",
    "lst[3] = 5\n",
    "print(lst)\n",
    "\n",
    "lst = list('python')\n",
    "print(lst)"
   ]
  },
  {
   "cell_type": "code",
   "execution_count": 33,
   "metadata": {
    "slideshow": {
     "slide_type": "fragment"
    }
   },
   "outputs": [
    {
     "name": "stdout",
     "output_type": "stream",
     "text": [
      "p\n",
      "y\n"
     ]
    }
   ],
   "source": [
    "print(lst[0])    # нулевой элемент списка\n",
    "print(lst[1])    # первый элемент списка"
   ]
  },
  {
   "cell_type": "code",
   "execution_count": 43,
   "metadata": {
    "slideshow": {
     "slide_type": "fragment"
    }
   },
   "outputs": [
    {
     "name": "stdout",
     "output_type": "stream",
     "text": [
      "n\n",
      "o\n",
      "6\n",
      "n\n",
      "o\n"
     ]
    }
   ],
   "source": [
    "print(lst[-1])    # последний элемент списка\n",
    "print(lst[-2])    # предпоследний элемент списка и т.д.\n",
    "\n",
    "len_lst = len(lst)    # длина списка\n",
    "print(len_lst)\n",
    "\n",
    "print(lst[len_lst-1])    # последний элемент списка\n",
    "print(lst[len_lst-2])    # предпоследний элемент списка"
   ]
  },
  {
   "cell_type": "code",
   "execution_count": 48,
   "metadata": {
    "slideshow": {
     "slide_type": "subslide"
    }
   },
   "outputs": [
    {
     "name": "stdout",
     "output_type": "stream",
     "text": [
      "['J', 'y', 't', 'h', 'o', 'n']\n"
     ]
    }
   ],
   "source": [
    "# списки изменяемые\n",
    "print(lst)"
   ]
  },
  {
   "cell_type": "code",
   "execution_count": 46,
   "metadata": {
    "slideshow": {
     "slide_type": "fragment"
    }
   },
   "outputs": [],
   "source": [
    "lst[0] = 'J'"
   ]
  },
  {
   "cell_type": "code",
   "execution_count": 47,
   "metadata": {
    "slideshow": {
     "slide_type": "fragment"
    }
   },
   "outputs": [
    {
     "name": "stdout",
     "output_type": "stream",
     "text": [
      "['J', 'y', 't', 'h', 'o', 'n']\n"
     ]
    }
   ],
   "source": [
    "print(lst)"
   ]
  },
  {
   "cell_type": "code",
   "execution_count": 51,
   "metadata": {
    "slideshow": {
     "slide_type": "subslide"
    }
   },
   "outputs": [
    {
     "name": "stdout",
     "output_type": "stream",
     "text": [
      "['J', 'y', 't', 'h', 'o', 'n', 3]\n"
     ]
    }
   ],
   "source": [
    "# Для добавления в конец списка\n",
    "lst.append(3)\n",
    "print(lst)"
   ]
  },
  {
   "cell_type": "markdown",
   "metadata": {
    "slideshow": {
     "slide_type": "subslide"
    }
   },
   "source": [
    "### Вопрос, как пройтись по каждому элементу списка?"
   ]
  },
  {
   "cell_type": "code",
   "execution_count": 36,
   "metadata": {
    "slideshow": {
     "slide_type": "subslide"
    }
   },
   "outputs": [],
   "source": [
    "res = ['5\\n', '10\\n', '15\\n', '5\\n', '10\\n', '15\\n']"
   ]
  },
  {
   "cell_type": "markdown",
   "metadata": {
    "slideshow": {
     "slide_type": "subslide"
    }
   },
   "source": [
    "### цикл for"
   ]
  },
  {
   "cell_type": "code",
   "execution_count": 50,
   "metadata": {
    "scrolled": true,
    "slideshow": {
     "slide_type": "subslide"
    }
   },
   "outputs": [
    {
     "name": "stdout",
     "output_type": "stream",
     "text": [
      "5\n",
      "10\n",
      "15\n",
      "5\n",
      "10\n",
      "15\n"
     ]
    }
   ],
   "source": [
    "for s in res: \n",
    "    print(s.strip('\\n'))\n",
    "\n",
    "# Метод strip() у строк, по умолчанию убирает пробелы"
   ]
  },
  {
   "cell_type": "markdown",
   "metadata": {
    "slideshow": {
     "slide_type": "subslide"
    }
   },
   "source": [
    "### Задачка\n",
    "1. Создайте список\n",
    "2. Добавьте в него несколько значений\n",
    "3. Сохраните значения из списка в файл\n",
    "4. Считать из файла значения в список"
   ]
  },
  {
   "cell_type": "code",
   "execution_count": 17,
   "metadata": {
    "slideshow": {
     "slide_type": "slide"
    }
   },
   "outputs": [
    {
     "name": "stdout",
     "output_type": "stream",
     "text": [
      "range(0, 10)\n",
      "<class 'range'>\n",
      "[0, 1, 2, 3, 4, 5, 6, 7, 8, 9]\n",
      "0\n",
      "1\n",
      "2\n",
      "3\n",
      "4\n",
      "5\n",
      "6\n",
      "7\n",
      "8\n",
      "9\n"
     ]
    }
   ],
   "source": [
    "new = []\n",
    "'''\n",
    "# генерация списка\n",
    "for i in range(0, 10, 3): # range от 0 до 9 с шагом 2\n",
    "    new.append(i)\n",
    "\n",
    "print(new)\n",
    "\n",
    "for i in range(0, len(new)):\n",
    "    print(new[i])\n",
    "\n",
    "for i, val in enumerate(new):\n",
    "    print(i, val)\n",
    "'''\n",
    "\n",
    "print(range(10))\n",
    "print(type(range(10)))\n",
    "print(list(range(10)))\n",
    "\n",
    "for i in range(10):\n",
    "    print(i)\n",
    "\n",
    "# проход по списку\n",
    "#for i in new:\n",
    "#    save_to_file(i)             \n"
   ]
  },
  {
   "cell_type": "code",
   "execution_count": 56,
   "metadata": {
    "scrolled": true,
    "slideshow": {
     "slide_type": "fragment"
    }
   },
   "outputs": [
    {
     "name": "stdout",
     "output_type": "stream",
     "text": [
      "['5\\n', '10\\n', '15\\n', '5\\n', '10\\n', '15\\n', '0\\n', '2\\n', '4\\n', '6\\n', '8\\n']\n",
      "<class 'list'>\n"
     ]
    }
   ],
   "source": [
    "res = read_from_file('file.txt')\n",
    "print(res)\n",
    "print(type(res))"
   ]
  },
  {
   "cell_type": "markdown",
   "metadata": {
    "slideshow": {
     "slide_type": "subslide"
    }
   },
   "source": [
    "![title](images/i-know-python.jpg)"
   ]
  }
 ],
 "metadata": {
  "celltoolbar": "Slideshow",
  "kernelspec": {
   "display_name": "Python 3",
   "language": "python",
   "name": "python3"
  },
  "language_info": {
   "codemirror_mode": {
    "name": "ipython",
    "version": 3
   },
   "file_extension": ".py",
   "mimetype": "text/x-python",
   "name": "python",
   "nbconvert_exporter": "python",
   "pygments_lexer": "ipython3",
   "version": "3.6.5"
  }
 },
 "nbformat": 4,
 "nbformat_minor": 2
}
