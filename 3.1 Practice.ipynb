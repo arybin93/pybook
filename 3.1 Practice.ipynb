{
 "cells": [
  {
   "cell_type": "markdown",
   "metadata": {},
   "source": [
    "### Parsing data from Web"
   ]
  },
  {
   "cell_type": "markdown",
   "metadata": {},
   "source": [
    "1. Requirements (pip install requests):\n",
    " - BeautifulSoup4\n",
    " - requests\n",
    " - matplotlib\n",
    " - For dynamic page: selenium\n",
    "2. Select web site\n",
    " - for example: https://yandex.ru/pogoda/nizhny-novgorod?from=serp_title&from=home&lat=56.312536200000004&lon=44.070441599999995\n",
    "3. Parse data\n",
    "4. Save data to file\n",
    "-----\n",
    "5. Read data from file\n",
    "6. Plot data"
   ]
  },
  {
   "cell_type": "code",
   "execution_count": null,
   "metadata": {},
   "outputs": [],
   "source": []
  }
 ],
 "metadata": {
  "kernelspec": {
   "display_name": "Python 3",
   "language": "python",
   "name": "python3"
  },
  "language_info": {
   "codemirror_mode": {
    "name": "ipython",
    "version": 3
   },
   "file_extension": ".py",
   "mimetype": "text/x-python",
   "name": "python",
   "nbconvert_exporter": "python",
   "pygments_lexer": "ipython3",
   "version": "3.6.5"
  }
 },
 "nbformat": 4,
 "nbformat_minor": 2
}
