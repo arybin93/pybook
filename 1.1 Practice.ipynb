{
 "cells": [
  {
   "cell_type": "markdown",
   "metadata": {},
   "source": [
    "Generate file with column, for example: first - depth, second - density "
   ]
  },
  {
   "cell_type": "code",
   "execution_count": 1,
   "metadata": {},
   "outputs": [
    {
     "data": {
      "text/latex": [
       "\\begin{align}\n",
       "\\rho = \\rho_0 - \\Delta \\rho_1 tanh \\frac {z-z_1}{d_1} \\ - \\Delta \\rho_2 tanh \\frac {z-z_2}{d_2} \\\n",
       "\\end{align}\n"
      ],
      "text/plain": [
       "<IPython.core.display.Latex object>"
      ]
     },
     "metadata": {},
     "output_type": "display_data"
    }
   ],
   "source": [
    "%%latex\n",
    "\\begin{align}\n",
    "\\rho = \\rho_0 - \\Delta \\rho_1 tanh \\frac {z-z_1}{d_1} \\ - \\Delta \\rho_2 tanh \\frac {z-z_2}{d_2} \\\n",
    "\\end{align}"
   ]
  },
  {
   "attachments": {
    "image.png": {
     "image/png": "[encoded data removed]"
    }
   },
   "cell_type": "markdown",
   "metadata": {},
   "source": [
    "![image.png](attachment:image.png)"
   ]
  },
  {
   "cell_type": "markdown",
   "metadata": {},
   "source": [
    "Initial condition  \n",
    "ρ0 = 1007 [kg/m3],   \n",
    "Δρ1 = Δρ2 = 2 [kg/m3],   \n",
    "d1 = 3 [m], d2 = 10 [m],  \n",
    "z1 = –20 [m], z2 = –80 [m],   \n",
    "total depth is 130 m.  "
   ]
  },
  {
   "cell_type": "code",
   "execution_count": 2,
   "metadata": {},
   "outputs": [
    {
     "name": "stdout",
     "output_type": "stream",
     "text": [
      "0\n",
      "2\n",
      "4\n"
     ]
    }
   ],
   "source": [
    "for i in range(0, 5, 2):\n",
    "    print(i)"
   ]
  },
  {
   "cell_type": "code",
   "execution_count": 3,
   "metadata": {},
   "outputs": [
    {
     "name": "stdout",
     "output_type": "stream",
     "text": [
      "[12, 14]\n"
     ]
    }
   ],
   "source": [
    "empty_lst = []\n",
    "empty_lst.append(12)\n",
    "empty_lst.append(14)\n",
    "print(empty_lst)"
   ]
  },
  {
   "cell_type": "code",
   "execution_count": 4,
   "metadata": {},
   "outputs": [
    {
     "name": "stdout",
     "output_type": "stream",
     "text": [
      "3.141592653589793\n",
      "0.9999999999244973\n"
     ]
    }
   ],
   "source": [
    "import math\n",
    "print(math.pi)\n",
    "print(math.tanh(12))"
   ]
  },
  {
   "cell_type": "code",
   "execution_count": null,
   "metadata": {},
   "outputs": [],
   "source": []
  },
  {
   "cell_type": "code",
   "execution_count": null,
   "metadata": {},
   "outputs": [],
   "source": []
  },
  {
   "cell_type": "code",
   "execution_count": null,
   "metadata": {},
   "outputs": [],
   "source": []
  },
  {
   "cell_type": "code",
   "execution_count": null,
   "metadata": {},
   "outputs": [],
   "source": []
  },
  {
   "cell_type": "code",
   "execution_count": null,
   "metadata": {},
   "outputs": [],
   "source": []
  },
  {
   "cell_type": "code",
   "execution_count": null,
   "metadata": {},
   "outputs": [],
   "source": []
  },
  {
   "cell_type": "code",
   "execution_count": null,
   "metadata": {},
   "outputs": [],
   "source": []
  },
  {
   "cell_type": "code",
   "execution_count": null,
   "metadata": {},
   "outputs": [],
   "source": []
  },
  {
   "cell_type": "code",
   "execution_count": 24,
   "metadata": {},
   "outputs": [],
   "source": [
    "# initial parameters\n",
    "total_depth = -130\n",
    "rho0 = 1007\n",
    "delda_rho1 = delta_rho2 = 2\n",
    "\n",
    "d1 = 3\n",
    "d2 = 10\n",
    "\n",
    "z1 = -20\n",
    "z2 = -80\n",
    "\n",
    "# generate z\n",
    "depths = range(0, total_depth - 1, -1)"
   ]
  },
  {
   "cell_type": "code",
   "execution_count": 25,
   "metadata": {},
   "outputs": [],
   "source": [
    "# calculate dencity\n",
    "import math\n",
    "\n",
    "rho = []\n",
    "for z in depths:\n",
    "    res = rho0 - delda_rho1 * math.tanh((z - z1)/d1) - delta_rho2 * math.tanh((z - z2)/d2)\n",
    "    rho.append(res)"
   ]
  },
  {
   "cell_type": "code",
   "execution_count": 26,
   "metadata": {},
   "outputs": [
    {
     "data": {
      "image/png": "[encoded data removed]",
      "text/plain": [
       "<Figure size 432x288 with 1 Axes>"
      ]
     },
     "metadata": {
      "needs_background": "light"
     },
     "output_type": "display_data"
    }
   ],
   "source": [
    "%matplotlib inline\n",
    "\n",
    "import matplotlib.pyplot as plt\n",
    "\n",
    "# plot rho and z\n",
    "z = range(0, 131, 1)\n",
    "plt.plot(rho, z)\n",
    "plt.ylabel('depth [m]')\n",
    "plt.xlabel(r'$\\rho$ (z) [kg/m^3]')\n",
    "plt.grid(True)\n",
    "plt.gca().invert_yaxis()\n",
    "plt.show()"
   ]
  },
  {
   "cell_type": "code",
   "execution_count": 41,
   "metadata": {},
   "outputs": [],
   "source": [
    "# save in file\n",
    "f = open(\"result.txt\", \"w\")\n",
    "f.write('depth  rho\\n')\n",
    "\n",
    "for i, item in enumerate(rho):\n",
    "    round_item = round(item, 3)\n",
    "    f.write(str(z[i]) + '    ' + str(round_item) + '\\n')\n",
    "f.close()"
   ]
  }
 ],
 "metadata": {
  "kernelspec": {
   "display_name": "Python 3",
   "language": "python",
   "name": "python3"
  },
  "language_info": {
   "codemirror_mode": {
    "name": "ipython",
    "version": 3
   },
   "file_extension": ".py",
   "mimetype": "text/x-python",
   "name": "python",
   "nbconvert_exporter": "python",
   "pygments_lexer": "ipython3",
   "version": "3.6.5"
  }
 },
 "nbformat": 4,
 "nbformat_minor": 2
}
