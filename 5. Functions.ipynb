{
 "cells": [
  {
   "cell_type": "markdown",
   "metadata": {
    "slideshow": {
     "slide_type": "slide"
    }
   },
   "source": [
    "![title](image/KGrV41o.png)"
   ]
  },
  {
   "cell_type": "markdown",
   "metadata": {
    "slideshow": {
     "slide_type": "subslide"
    }
   },
   "source": [
    "## Распознавание лиц"
   ]
  },
  {
   "cell_type": "markdown",
   "metadata": {
    "slideshow": {
     "slide_type": "fragment"
    }
   },
   "source": [
    "```\n",
    "import requests\n",
    "\n",
    "URL = 'https://westcentralus.api.cognitive.microsoft.com/face/v1.0/{}'\n",
    "\n",
    "key1 = '597fb9372155489f8ff6b4180d29126b'\n",
    "\n",
    "detect_url = URL.format('detect')\n",
    "\n",
    "file = {\n",
    "    'url': 'https://www.rusdialog.ru/images/news/a1461f7e259fc936e342d67f40633a17.jpg'\n",
    "}\n",
    "\n",
    "params = {\n",
    "    'returnFaceId': True,\n",
    "    'returnFaceAttributes': 'age,emotion,gender'\n",
    "}\n",
    "\n",
    "headers = {\n",
    "    'Content-Type': 'application/json',\n",
    "    'Ocp-Apim-Subscription-Key': key1\n",
    "}\n",
    "\n",
    "r = requests.post(detect_url, params=params, headers=headers, json=file)\n",
    "\n",
    "print(r.status_code)\n",
    "print(r.text)\n",
    "```"
   ]
  },
  {
   "cell_type": "markdown",
   "metadata": {
    "slideshow": {
     "slide_type": "fragment"
    }
   },
   "source": [
    "### Вопрос: что если на потребуется распознать несколько разных лиц?"
   ]
  },
  {
   "cell_type": "markdown",
   "metadata": {
    "slideshow": {
     "slide_type": "slide"
    }
   },
   "source": [
    "# Синтаксис, первая функция\n",
    "![title](image/0wap3cp4khm01.jpg)"
   ]
  },
  {
   "cell_type": "code",
   "execution_count": 1,
   "metadata": {
    "slideshow": {
     "slide_type": "subslide"
    }
   },
   "outputs": [],
   "source": [
    "def my_sum(a, b):\n",
    "    ''' Function for sum '''\n",
    "    return a + b"
   ]
  },
  {
   "cell_type": "code",
   "execution_count": 2,
   "metadata": {
    "slideshow": {
     "slide_type": "fragment"
    }
   },
   "outputs": [
    {
     "data": {
      "text/plain": [
       "4"
      ]
     },
     "execution_count": 2,
     "metadata": {},
     "output_type": "execute_result"
    }
   ],
   "source": [
    "my_sum(1, 3)"
   ]
  },
  {
   "cell_type": "markdown",
   "metadata": {
    "slideshow": {
     "slide_type": "fragment"
    }
   },
   "source": [
    "### Функция для распознавания лиц"
   ]
  },
  {
   "cell_type": "code",
   "execution_count": 10,
   "metadata": {
    "slideshow": {
     "slide_type": "fragment"
    }
   },
   "outputs": [],
   "source": [
    "def face(url):\n",
    "    \"\"\" Function for recognition face by image_url \"\"\"\n",
    "    pass"
   ]
  },
  {
   "cell_type": "markdown",
   "metadata": {
    "slideshow": {
     "slide_type": "slide"
    }
   },
   "source": [
    "![title](image/yu81pk.jpg)"
   ]
  },
  {
   "cell_type": "markdown",
   "metadata": {
    "slideshow": {
     "slide_type": "subslide"
    }
   },
   "source": [
    "```\n",
    "import requests\n",
    "\n",
    "URL = 'https://westcentralus.api.cognitive.microsoft.com/face/v1.0/{}'\n",
    "\n",
    "key1 = '597fb9372155489f8ff6b4180d29126b'\n",
    "\n",
    "detect_url = URL.format('detect')\n",
    "\n",
    "file = {\n",
    "    'url': 'https://www.rusdialog.ru/images/news/a1461f7e259fc936e342d67f40633a17.jpg'\n",
    "}\n",
    "\n",
    "params = {\n",
    "    'returnFaceId': True,\n",
    "    'returnFaceAttributes': 'age,emotion,gender'\n",
    "}\n",
    "\n",
    "headers = {\n",
    "    'Content-Type': 'application/json',\n",
    "    'Ocp-Apim-Subscription-Key': key1\n",
    "}\n",
    "\n",
    "r = requests.post(detect_url, params=params, headers=headers, json=file)\n",
    "\n",
    "print(r.status_code)\n",
    "print(r.text)\n",
    "```"
   ]
  },
  {
   "cell_type": "code",
   "execution_count": 15,
   "metadata": {
    "slideshow": {
     "slide_type": "subslide"
    }
   },
   "outputs": [
    {
     "data": {
      "text/plain": [
       "'https://www.rusdialog.ru/images/news/a1461f7e259fc936e342d67f40633a17.jpg'"
      ]
     },
     "execution_count": 15,
     "metadata": {},
     "output_type": "execute_result"
    }
   ],
   "source": [
    "import requests\n",
    "\n",
    "\"\"\"\n",
    "URL = 'https://westcentralus.api.cognitive.microsoft.com/face/v1.0/{}'\n",
    "\n",
    "key1 = '597fb9372155489f8ff6b4180d29126b'\n",
    "\n",
    "detect_url = URL.format('detect')\n",
    "\n",
    "file = {\n",
    "    'url': 'https://www.rusdialog.ru/images/news/a1461f7e259fc936e342d67f40633a17.jpg'\n",
    "}\n",
    "\n",
    "params = {\n",
    "    'returnFaceId': True,\n",
    "    'returnFaceAttributes': 'age,emotion,gender'\n",
    "}\n",
    "\n",
    "headers = {\n",
    "    'Content-Type': 'application/json',\n",
    "    'Ocp-Apim-Subscription-Key': key1\n",
    "}\n",
    "\n",
    "r = requests.post(detect_url, params=params, headers=headers, json=file)\n",
    "\n",
    "print(r.status_code)\n",
    "print(r.text)\n",
    "\"\"\"\n",
    "\n",
    "def face(url):\n",
    "    \"\"\" Recognition face by image_url \"\"\"\n",
    "    return url\n",
    "\n",
    "my_url = 'https://www.rusdialog.ru/images/news/a1461f7e259fc936e342d67f40633a17.jpg'\n",
    "face(my_url)"
   ]
  },
  {
   "cell_type": "code",
   "execution_count": 47,
   "metadata": {
    "slideshow": {
     "slide_type": "subslide"
    }
   },
   "outputs": [
    {
     "name": "stdout",
     "output_type": "stream",
     "text": [
      "401\n",
      "\n",
      "\t\t\t\t\t{\"error\":{\"code\":\"Unspecified\",\"message\":\"Access denied due to invalid subscription key. Make sure you are subscribed to an API you are trying to call and provide the right key.\"}}\n",
      "                \t\t\n"
     ]
    },
    {
     "data": {
      "text/plain": [
       "'https://www.rusdialog.ru/images/news/a1461f7e259fc936e342d67f40633a17.jpg'"
      ]
     },
     "execution_count": 47,
     "metadata": {},
     "output_type": "execute_result"
    }
   ],
   "source": [
    "import requests\n",
    "\n",
    "# global variables\n",
    "URL = 'https://westcentralus.api.cognitive.microsoft.com/face/v1.0/{}'\n",
    "key1 = '597fb9372155489f8ff6b4180d29126b'\n",
    "\n",
    "def face(url):\n",
    "    \"\"\" Recognition face by image_url \"\"\"\n",
    "    detect_url = URL.format('detect')\n",
    "\n",
    "    file = {\n",
    "        'url': 'https://www.rusdialog.ru/images/news/a1461f7e259fc936e342d67f40633a17.jpg'\n",
    "    }\n",
    "\n",
    "    params = {\n",
    "        'returnFaceId': True,\n",
    "        'returnFaceAttributes': 'age,emotion,gender'\n",
    "    }\n",
    "\n",
    "    headers = {\n",
    "        'Content-Type': 'application/json',\n",
    "        'Ocp-Apim-Subscription-Key': key1\n",
    "    }\n",
    "\n",
    "    r = requests.post(detect_url, params=params, headers=headers, json=file)\n",
    "\n",
    "    print(r.status_code)\n",
    "    print(r.text)\n",
    "    return url\n",
    "\n",
    "my_url = 'https://www.rusdialog.ru/images/news/a1461f7e259fc936e342d67f40633a17.jpg'\n",
    "face(my_url)"
   ]
  },
  {
   "cell_type": "code",
   "execution_count": 38,
   "metadata": {
    "slideshow": {
     "slide_type": "subslide"
    }
   },
   "outputs": [
    {
     "name": "stdout",
     "output_type": "stream",
     "text": [
      "{'error': {'code': 'Unspecified', 'message': 'Access denied due to invalid subscription key. Make sure you are subscribed to an API you are trying to call and provide the right key.'}}\n",
      "Access denied due to invalid subscription key. Make sure you are subscribed to an API you are trying to call and provide the right key.\n"
     ]
    }
   ],
   "source": [
    "import requests\n",
    "\n",
    "# global variables\n",
    "URL = 'https://westcentralus.api.cognitive.microsoft.com/face/v1.0/{}'\n",
    "key1 = '597fb9372155489f8ff6b4180d29126b'\n",
    "\n",
    "def face(url):\n",
    "    \"\"\" Recognition face by image_url \"\"\"\n",
    "    detect_url = URL.format('detect')\n",
    "\n",
    "    file = {\n",
    "        'url': url\n",
    "    }\n",
    "\n",
    "    params = {\n",
    "        'returnFaceId': True,\n",
    "        'returnFaceAttributes': 'age,emotion,gender'\n",
    "    }\n",
    "\n",
    "    headers = {\n",
    "        'Content-Type': 'application/json',\n",
    "        'Ocp-Apim-Subscription-Key': key1\n",
    "    }\n",
    "\n",
    "    r = requests.post(detect_url, params=params, headers=headers, json=file)\n",
    "    \n",
    "    # return dictionary\n",
    "    return r.json()\n",
    "\n",
    "my_url = 'https://www.rusdialog.ru/images/news/a1461f7e259fc936e342d67f40633a17.jpg'\n",
    "result = face(my_url)\n",
    "print(result)\n",
    "print(result['error']['message'])"
   ]
  },
  {
   "cell_type": "markdown",
   "metadata": {
    "slideshow": {
     "slide_type": "slide"
    }
   },
   "source": [
    "# Базы данных и SQL\n",
    "![title](image/user%20database.jpg)"
   ]
  },
  {
   "cell_type": "markdown",
   "metadata": {
    "slideshow": {
     "slide_type": "slide"
    }
   },
   "source": [
    "# Для работы с базой - SQL"
   ]
  },
  {
   "cell_type": "markdown",
   "metadata": {
    "slideshow": {
     "slide_type": "subslide"
    }
   },
   "source": [
    "### Создание таблицы"
   ]
  },
  {
   "cell_type": "code",
   "execution_count": 31,
   "metadata": {
    "slideshow": {
     "slide_type": "fragment"
    }
   },
   "outputs": [],
   "source": [
    "# Тестовые данные\n",
    "result = {\n",
    "    'gender': 'male',\n",
    "    'age': 21,\n",
    "}"
   ]
  },
  {
   "cell_type": "markdown",
   "metadata": {
    "slideshow": {
     "slide_type": "fragment"
    }
   },
   "source": [
    "```CREATE TABLE IF NOT EXISTS people (\n",
    " id INTEGER PRIMARY KEY,\n",
    " age INTEGER NOT NULL,\n",
    " gender TEXT NOT NULL\n",
    ");\n",
    "```"
   ]
  },
  {
   "cell_type": "markdown",
   "metadata": {
    "slideshow": {
     "slide_type": "subslide"
    }
   },
   "source": [
    "### Создание новой записи"
   ]
  },
  {
   "cell_type": "markdown",
   "metadata": {
    "slideshow": {
     "slide_type": "fragment"
    }
   },
   "source": [
    "```\n",
    "INSERT INTO people (age, gender) VALUES (21, 'male');\n",
    "```"
   ]
  },
  {
   "cell_type": "markdown",
   "metadata": {
    "slideshow": {
     "slide_type": "subslide"
    }
   },
   "source": [
    "### Поиск"
   ]
  },
  {
   "cell_type": "markdown",
   "metadata": {
    "slideshow": {
     "slide_type": "subslide"
    }
   },
   "source": [
    "### все записи, все колонки\n",
    "```SELECT * FROM people;```\n",
    "\n",
    "### Получить возраста у которых значение 21\n",
    "```SELECT age FROM people WHERE age = 21;```"
   ]
  },
  {
   "cell_type": "markdown",
   "metadata": {
    "slideshow": {
     "slide_type": "subslide"
    }
   },
   "source": [
    "### Удаление записи"
   ]
  },
  {
   "cell_type": "markdown",
   "metadata": {
    "slideshow": {
     "slide_type": "fragment"
    }
   },
   "source": [
    "### Удалить все записи у которых возраст 21\n",
    "```DELETE FROM people WHERE age=21;```"
   ]
  },
  {
   "cell_type": "markdown",
   "metadata": {
    "slideshow": {
     "slide_type": "slide"
    }
   },
   "source": [
    "# Обработка результатов и сохранение в БД\n",
    "![title](image/38a503ff27b846e4aac2411fb0fdf614.png)"
   ]
  },
  {
   "cell_type": "markdown",
   "metadata": {
    "slideshow": {
     "slide_type": "subslide"
    }
   },
   "source": [
    "### SQLite - sqlite3\n",
    "\n",
    "Для удобного просмотра базы данных - SQLite Database Browser\n"
   ]
  },
  {
   "cell_type": "code",
   "execution_count": 20,
   "metadata": {
    "slideshow": {
     "slide_type": "fragment"
    }
   },
   "outputs": [],
   "source": [
    "import sqlite3"
   ]
  },
  {
   "cell_type": "code",
   "execution_count": 21,
   "metadata": {
    "slideshow": {
     "slide_type": "fragment"
    }
   },
   "outputs": [],
   "source": [
    "conn = sqlite3.connect('people.sqlite')"
   ]
  },
  {
   "cell_type": "code",
   "execution_count": 22,
   "metadata": {
    "slideshow": {
     "slide_type": "fragment"
    }
   },
   "outputs": [],
   "source": [
    "cursor = conn.cursor()"
   ]
  },
  {
   "cell_type": "code",
   "execution_count": null,
   "metadata": {
    "slideshow": {
     "slide_type": "fragment"
    }
   },
   "outputs": [],
   "source": [
    "### Здесь наш код по работе с БД"
   ]
  },
  {
   "cell_type": "code",
   "execution_count": 23,
   "metadata": {
    "slideshow": {
     "slide_type": "fragment"
    }
   },
   "outputs": [],
   "source": [
    "conn.close()"
   ]
  },
  {
   "cell_type": "markdown",
   "metadata": {
    "slideshow": {
     "slide_type": "slide"
    }
   },
   "source": [
    "# Практика"
   ]
  },
  {
   "cell_type": "code",
   "execution_count": 29,
   "metadata": {
    "slideshow": {
     "slide_type": "subslide"
    }
   },
   "outputs": [],
   "source": [
    "# Тестовые данные\n",
    "result = {\n",
    "    'gender': 'male',\n",
    "    'age': '21',\n",
    "}"
   ]
  },
  {
   "cell_type": "code",
   "execution_count": 42,
   "metadata": {
    "slideshow": {
     "slide_type": "fragment"
    }
   },
   "outputs": [],
   "source": [
    "import sqlite3\n",
    "\n",
    "# Создание connection\n",
    "conn = sqlite3.connect('people.sqlite')\n",
    "\n",
    "# SQL запрос на создание таблицы\n",
    "sql_create_table = \"\"\"\n",
    "    CREATE TABLE IF NOT EXISTS people (\n",
    "      id INTEGER PRIMARY KEY,\n",
    "      age INTEGER NOT NULL,\n",
    "      gender TEXT NOT NULL\n",
    ");\"\"\"\n",
    "\n",
    "# Получение объекта курсора\n",
    "cursor = conn.cursor()\n",
    "\n",
    "# Запуск выполнения запроса на создание таблицы\n",
    "cursor.execute(sql_create_table)\n",
    "\n",
    "conn.close()\n",
    "\n",
    "# Можно проверить через SQLite Database Browser"
   ]
  },
  {
   "cell_type": "code",
   "execution_count": 43,
   "metadata": {
    "slideshow": {
     "slide_type": "subslide"
    }
   },
   "outputs": [],
   "source": [
    "# Запись в БД\n",
    "\n",
    "# Тестовые данные\n",
    "result = {\n",
    "    'gender': 'male',\n",
    "    'age': 21,\n",
    "}\n",
    "\n",
    "# Знаки вопроса (?, ?) за место реальных значений \n",
    "sql_insert_data = \"\"\"INSERT INTO people (age, gender) VALUES (?, ?);\"\"\"\n",
    "\n",
    "# Создание connection\n",
    "conn = sqlite3.connect('people.sqlite')\n",
    "\n",
    "# Получение объекта курсора\n",
    "cursor = conn.cursor()\n",
    "\n",
    "# Для записи используется кортеж, что-то вроде списка, только неизменяемый\n",
    "# формируем кортеж для записи\n",
    "people = (result['age'], result['gender'])\n",
    "\n",
    "# Выполняем запрос на создание записи\n",
    "cursor.execute(sql_insert_data, people)\n",
    "\n",
    "# Делаем commit, сохраняем изменения в базе\n",
    "conn.commit()\n",
    "\n",
    "# Закрываем connection\n",
    "conn.close()"
   ]
  },
  {
   "cell_type": "code",
   "execution_count": 48,
   "metadata": {
    "slideshow": {
     "slide_type": "subslide"
    }
   },
   "outputs": [
    {
     "name": "stdout",
     "output_type": "stream",
     "text": [
      "(1, 21, 'male')\n"
     ]
    }
   ],
   "source": [
    "# Сделать SELECT\n",
    "\n",
    "sql_select_all_with_age = 'SELECT * FROM people WHERE age=?;'\n",
    "\n",
    "# Создание connection\n",
    "conn = sqlite3.connect('people.sqlite')\n",
    "\n",
    "# Получение объекта курсора\n",
    "cursor = conn.cursor()\n",
    "\n",
    "# формируем кортеж для запроса\n",
    "query_params = (21,)\n",
    "cursor.execute(sql_select_all_with_age, query_params)\n",
    "\n",
    "# вывод запрашиваемых данных\n",
    "print(cursor.fetchone())\n",
    "\n",
    "# Закрываем connection\n",
    "conn.close()"
   ]
  }
 ],
 "metadata": {
  "celltoolbar": "Slideshow",
  "kernelspec": {
   "display_name": "Python 3",
   "language": "python",
   "name": "python3"
  },
  "language_info": {
   "codemirror_mode": {
    "name": "ipython",
    "version": 3
   },
   "file_extension": ".py",
   "mimetype": "text/x-python",
   "name": "python",
   "nbconvert_exporter": "python",
   "pygments_lexer": "ipython3",
   "version": "3.6.5"
  }
 },
 "nbformat": 4,
 "nbformat_minor": 2
}
