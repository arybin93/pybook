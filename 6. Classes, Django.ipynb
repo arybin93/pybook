{
 "cells": [
  {
   "cell_type": "markdown",
   "metadata": {
    "slideshow": {
     "slide_type": "slide"
    }
   },
   "source": [
    "![title](image/2712757.jpg)"
   ]
  },
  {
   "cell_type": "markdown",
   "metadata": {
    "slideshow": {
     "slide_type": "subslide"
    }
   },
   "source": [
    "### Классы: всё в python объекты"
   ]
  },
  {
   "cell_type": "code",
   "execution_count": 77,
   "metadata": {
    "slideshow": {
     "slide_type": "fragment"
    }
   },
   "outputs": [
    {
     "name": "stdout",
     "output_type": "stream",
     "text": [
      "['__add__', '__class__', '__contains__', '__delattr__', '__dir__', '__doc__', '__eq__', '__format__', '__ge__', '__getattribute__', '__getitem__', '__getnewargs__', '__gt__', '__hash__', '__init__', '__init_subclass__', '__iter__', '__le__', '__len__', '__lt__', '__mod__', '__mul__', '__ne__', '__new__', '__reduce__', '__reduce_ex__', '__repr__', '__rmod__', '__rmul__', '__setattr__', '__sizeof__', '__str__', '__subclasshook__', 'capitalize', 'casefold', 'center', 'count', 'encode', 'endswith', 'expandtabs', 'find', 'format', 'format_map', 'index', 'isalnum', 'isalpha', 'isdecimal', 'isdigit', 'isidentifier', 'islower', 'isnumeric', 'isprintable', 'isspace', 'istitle', 'isupper', 'join', 'ljust', 'lower', 'lstrip', 'maketrans', 'partition', 'replace', 'rfind', 'rindex', 'rjust', 'rpartition', 'rsplit', 'rstrip', 'split', 'splitlines', 'startswith', 'strip', 'swapcase', 'title', 'translate', 'upper', 'zfill']\n",
      "<class 'str'>\n"
     ]
    }
   ],
   "source": [
    "x = \"Django\"\n",
    "print(dir(x))\n",
    "print(type(x))"
   ]
  },
  {
   "cell_type": "markdown",
   "metadata": {
    "slideshow": {
     "slide_type": "fragment"
    }
   },
   "source": [
    "Строка \"Django\" - это экземпляр (объект) класса **str**"
   ]
  },
  {
   "cell_type": "markdown",
   "metadata": {
    "slideshow": {
     "slide_type": "subslide"
    }
   },
   "source": [
    "### Мы можем создавать собственные классы"
   ]
  },
  {
   "cell_type": "code",
   "execution_count": 78,
   "metadata": {
    "slideshow": {
     "slide_type": "fragment"
    }
   },
   "outputs": [],
   "source": [
    "class Student:\n",
    "    \"\"\" Student \"\"\"\n",
    "    pass"
   ]
  },
  {
   "cell_type": "code",
   "execution_count": 79,
   "metadata": {
    "slideshow": {
     "slide_type": "fragment"
    }
   },
   "outputs": [
    {
     "name": "stdout",
     "output_type": "stream",
     "text": [
      "<class '__main__.Student'>\n"
     ]
    }
   ],
   "source": [
    "s = Student()\n",
    "print(type(s))"
   ]
  },
  {
   "cell_type": "code",
   "execution_count": 80,
   "metadata": {
    "slideshow": {
     "slide_type": "fragment"
    }
   },
   "outputs": [
    {
     "name": "stdout",
     "output_type": "stream",
     "text": [
      "['__class__', '__delattr__', '__dict__', '__dir__', '__doc__', '__eq__', '__format__', '__ge__', '__getattribute__', '__gt__', '__hash__', '__init__', '__init_subclass__', '__le__', '__lt__', '__module__', '__ne__', '__new__', '__reduce__', '__reduce_ex__', '__repr__', '__setattr__', '__sizeof__', '__str__', '__subclasshook__', '__weakref__']\n"
     ]
    }
   ],
   "source": [
    "print(dir(s))"
   ]
  },
  {
   "cell_type": "markdown",
   "metadata": {
    "slideshow": {
     "slide_type": "fragment"
    }
   },
   "source": [
    "Имена методов, начинающиеся и заканчивающиеся двумя символами подчеркивания \"__ x __\", имеют специальное назначение.\n",
    "Такие методы вызываются автоматически, когда экземпляр участвует во встроенных операциях."
   ]
  },
  {
   "cell_type": "code",
   "execution_count": 81,
   "metadata": {
    "slideshow": {
     "slide_type": "fragment"
    }
   },
   "outputs": [
    {
     "name": "stdout",
     "output_type": "stream",
     "text": [
      "<__main__.Student object at 0x000001D89B19BC88>\n"
     ]
    }
   ],
   "source": [
    "print(s) # Метод __str__ вызывается при выводе объекта"
   ]
  },
  {
   "cell_type": "code",
   "execution_count": 82,
   "metadata": {
    "slideshow": {
     "slide_type": "subslide"
    }
   },
   "outputs": [],
   "source": [
    "class Student:\n",
    "    \"\"\" Student \"\"\"\n",
    "    \n",
    "    def __init__(self, name, gender, age):\n",
    "        \"\"\" Constructor \"\"\"\n",
    "        self.name = name\n",
    "        self.gender = gender\n",
    "        self.age = age\n",
    "\n",
    "    def __str__(self):\n",
    "        return self.name\n",
    "    \n",
    "    def sleep(self):\n",
    "        \"\"\" Method make happy \"\"\"\n",
    "        return 'sleep'"
   ]
  },
  {
   "cell_type": "code",
   "execution_count": 83,
   "metadata": {
    "slideshow": {
     "slide_type": "fragment"
    }
   },
   "outputs": [],
   "source": [
    "s1 = Student(name='Ivan', gender='male', age=20)"
   ]
  },
  {
   "cell_type": "code",
   "execution_count": 84,
   "metadata": {
    "slideshow": {
     "slide_type": "fragment"
    }
   },
   "outputs": [
    {
     "name": "stdout",
     "output_type": "stream",
     "text": [
      "Ivan\n",
      "male\n",
      "20\n",
      "sleep\n"
     ]
    }
   ],
   "source": [
    "print(s1)\n",
    "print(s1.gender)\n",
    "print(s1.age)\n",
    "print(s1.sleep())"
   ]
  },
  {
   "cell_type": "code",
   "execution_count": 85,
   "metadata": {
    "slideshow": {
     "slide_type": "fragment"
    }
   },
   "outputs": [
    {
     "name": "stdout",
     "output_type": "stream",
     "text": [
      "['__class__', '__delattr__', '__dict__', '__dir__', '__doc__', '__eq__', '__format__', '__ge__', '__getattribute__', '__gt__', '__hash__', '__init__', '__init_subclass__', '__le__', '__lt__', '__module__', '__ne__', '__new__', '__reduce__', '__reduce_ex__', '__repr__', '__setattr__', '__sizeof__', '__str__', '__subclasshook__', '__weakref__', 'age', 'gender', 'name', 'sleep']\n"
     ]
    }
   ],
   "source": [
    "print(dir(s1))"
   ]
  },
  {
   "cell_type": "markdown",
   "metadata": {
    "slideshow": {
     "slide_type": "slide"
    }
   },
   "source": [
    "# Класс для работы с базой данных"
   ]
  },
  {
   "cell_type": "markdown",
   "metadata": {
    "slideshow": {
     "slide_type": "subslide"
    }
   },
   "source": [
    "1. Создать класс SQLClient\n",
    "2. Конструктор, получение соединения с БД, создание таблицы если её нет\n",
    "3. Метод вставка данных в таблицу\n",
    "4. Метод получение данных из таблицы"
   ]
  },
  {
   "cell_type": "code",
   "execution_count": 74,
   "metadata": {
    "slideshow": {
     "slide_type": "fragment"
    }
   },
   "outputs": [],
   "source": [
    "# Тестовые данные\n",
    "student = {\n",
    "    'name': 'Ivan',\n",
    "    'gender': 'male',\n",
    "    'age': 21,\n",
    "}\n",
    "\n",
    "# За место словаря, можно использовать класс Student\n",
    "s1 = Student(name='Ivan', gender='male', age=20)"
   ]
  },
  {
   "cell_type": "code",
   "execution_count": 57,
   "metadata": {
    "slideshow": {
     "slide_type": "subslide"
    }
   },
   "outputs": [],
   "source": [
    "import sqlite3\n",
    "\n",
    "class SQLClient:\n",
    "    \"\"\" Class for work with db \"\"\"\n",
    "\n",
    "    def __init__(self, db_name):\n",
    "        \"\"\" Constructor \"\"\"\n",
    "        self.conn = sqlite3.connect(db_name)\n",
    "        \n",
    "        # создание таблицы, если нет\n",
    "        self.create_table_student()\n",
    "\n",
    "    def create_table_student(self):\n",
    "        \"\"\" Create table \"\"\"\n",
    "        sql_create_table = \"\"\"\n",
    "            CREATE TABLE IF NOT EXISTS student (\n",
    "            id INTEGER PRIMARY KEY,\n",
    "            name TEXT NOT NULL,\n",
    "            age INTEGER NOT NULL,\n",
    "            gender TEXT NOT NULL\n",
    "        );\"\"\"\n",
    "\n",
    "        # Получение объекта курсора\n",
    "        cursor = self.conn.cursor()\n",
    "\n",
    "        # Запуск выполнения запроса на создание таблицы\n",
    "        cursor.execute(sql_create_table)\n",
    "\n",
    "    def create_student(self):\n",
    "        \"\"\" Save student to db \"\"\"\n",
    "        pass\n",
    "\n",
    "    def get_students(self):\n",
    "        \"\"\" Get all students from db \"\"\"\n",
    "        pass\n",
    "\n",
    "    def close(self):\n",
    "        \"\"\" Close connection \"\"\"\n",
    "        self.conn.close()"
   ]
  },
  {
   "cell_type": "code",
   "execution_count": 60,
   "metadata": {
    "slideshow": {
     "slide_type": "fragment"
    }
   },
   "outputs": [],
   "source": [
    "db = SQLClient('student.sqlite')\n",
    "db.close()"
   ]
  },
  {
   "cell_type": "code",
   "execution_count": 61,
   "metadata": {
    "slideshow": {
     "slide_type": "subslide"
    }
   },
   "outputs": [],
   "source": [
    "student = {\n",
    "    'name': 'Ivan',\n",
    "    'gender': 'male',\n",
    "    'age': 21,\n",
    "}"
   ]
  },
  {
   "cell_type": "code",
   "execution_count": 86,
   "metadata": {
    "slideshow": {
     "slide_type": "slide"
    }
   },
   "outputs": [],
   "source": [
    "import sqlite3\n",
    "\n",
    "class SQLClient:\n",
    "    \"\"\" Class for work with db \"\"\"\n",
    "\n",
    "    def __init__(self, db_name):\n",
    "        \"\"\" Constructor \"\"\"\n",
    "        self.conn = sqlite3.connect(db_name)\n",
    "        \n",
    "        # создание таблицы, если есть\n",
    "        self.create_table_student()\n",
    "\n",
    "    def create_table_student(self):\n",
    "        \"\"\" Create table \"\"\"\n",
    "        sql_create_table = \"\"\"\n",
    "            CREATE TABLE IF NOT EXISTS student (\n",
    "            id INTEGER PRIMARY KEY,\n",
    "            name TEXT NOT NULL,\n",
    "            age INTEGER NOT NULL,\n",
    "            gender TEXT NOT NULL\n",
    "        );\"\"\"\n",
    "\n",
    "        # Получение объекта курсора\n",
    "        cursor = self.conn.cursor()\n",
    "\n",
    "        # Запуск выполнения запроса на создание таблицы\n",
    "        cursor.execute(sql_create_table)\n",
    "\n",
    "    def create_student(self, student):\n",
    "        \"\"\" Save student to db \"\"\"\n",
    "        sql_insert_data = \"\"\"INSERT INTO student (name, age, gender) VALUES (?, ?, ?);\"\"\"\n",
    "        \n",
    "        #data = (student['name'], student['age'], student['gender'])\n",
    "        data = (student.name, student.age, student.gender)\n",
    "\n",
    "        # Получение объекта курсора\n",
    "        cursor = self.conn.cursor()\n",
    "        \n",
    "        # Выполняем запрос на создание записи\n",
    "        cursor.execute(sql_insert_data, data)\n",
    "\n",
    "        # Делаем commit, сохраняем изменения в базе\n",
    "        self.conn.commit()\n",
    "\n",
    "    def get_students(self):\n",
    "        \"\"\" Get all students from db \"\"\"\n",
    "        sql_select_all = 'SELECT * FROM student;'\n",
    "        \n",
    "        # Получение объекта курсора\n",
    "        cursor = self.conn.cursor()\n",
    "        \n",
    "        cursor.execute(sql_select_all)\n",
    "        \n",
    "        return cursor.fetchall()\n",
    "\n",
    "    def close(self):\n",
    "        \"\"\" Close connection \"\"\"\n",
    "        self.conn.close()"
   ]
  },
  {
   "cell_type": "code",
   "execution_count": 76,
   "metadata": {
    "slideshow": {
     "slide_type": "fragment"
    }
   },
   "outputs": [
    {
     "name": "stdout",
     "output_type": "stream",
     "text": [
      "[(1, 'Ivan', 21, 'male'), (2, 'Tom', 21, 'male'), (3, 'Elena', 20, 'female')]\n"
     ]
    }
   ],
   "source": [
    "db = SQLClient('student.sqlite')\n",
    "s1 = Student(name='Elena', gender='female', age=20)\n",
    "db.create_student(s1)\n",
    "result = db.get_students()\n",
    "print(result)\n",
    "db.close()"
   ]
  },
  {
   "cell_type": "markdown",
   "metadata": {
    "slideshow": {
     "slide_type": "slide"
    }
   },
   "source": [
    "![title](image/000887539.jpg)"
   ]
  },
  {
   "cell_type": "markdown",
   "metadata": {
    "slideshow": {
     "slide_type": "subslide"
    }
   },
   "source": [
    "# Установка"
   ]
  },
  {
   "cell_type": "markdown",
   "metadata": {
    "slideshow": {
     "slide_type": "fragment"
    }
   },
   "source": [
    "pip install django"
   ]
  },
  {
   "cell_type": "markdown",
   "metadata": {
    "slideshow": {
     "slide_type": "subslide"
    }
   },
   "source": [
    "# Создание проекта Django"
   ]
  },
  {
   "cell_type": "markdown",
   "metadata": {
    "slideshow": {
     "slide_type": "fragment"
    }
   },
   "source": [
    "django-admin startproject <название проекта>  \n",
    "django-admin startproject mysite"
   ]
  },
  {
   "cell_type": "markdown",
   "metadata": {
    "slideshow": {
     "slide_type": "fragment"
    }
   },
   "source": [
    "```\n",
    "mysite/  \n",
    "    manage.py  \n",
    "    mysite/  \n",
    "        __init__.py  \n",
    "        settings.py  \n",
    "        urls.py  \n",
    "        wsgi.py  \n",
    "```"
   ]
  },
  {
   "cell_type": "markdown",
   "metadata": {
    "slideshow": {
     "slide_type": "fragment"
    }
   },
   "source": [
    "### Запуск сервера для разработки\n",
    "python manage.py runserver"
   ]
  },
  {
   "cell_type": "markdown",
   "metadata": {
    "slideshow": {
     "slide_type": "subslide"
    }
   },
   "source": [
    "# Создание первого приложения "
   ]
  },
  {
   "cell_type": "markdown",
   "metadata": {
    "slideshow": {
     "slide_type": "fragment"
    }
   },
   "source": [
    "cd mysite  \n",
    "django-admin startapp notes"
   ]
  },
  {
   "cell_type": "markdown",
   "metadata": {
    "slideshow": {
     "slide_type": "fragment"
    }
   },
   "source": [
    "```\n",
    "notes/\n",
    "    __init__.py\n",
    "    admin.py\n",
    "    apps.py\n",
    "    migrations/\n",
    "        __init__.py\n",
    "    models.py\n",
    "    tests.py\n",
    "    views.py\n",
    "```"
   ]
  },
  {
   "cell_type": "markdown",
   "metadata": {
    "slideshow": {
     "slide_type": "fragment"
    }
   },
   "source": [
    "```\n",
    "# mysite/settings.py\n",
    "\n",
    "INSTALLED_APPS = [\n",
    "    ...\n",
    "    'django.contrib.messages',\n",
    "    'django.contrib.staticfiles',\n",
    "    'notes',\n",
    "]\n",
    "```"
   ]
  },
  {
   "cell_type": "markdown",
   "metadata": {
    "slideshow": {
     "slide_type": "subslide"
    }
   },
   "source": [
    "# Создание первой модели, ORM"
   ]
  },
  {
   "cell_type": "markdown",
   "metadata": {
    "slideshow": {
     "slide_type": "fragment"
    }
   },
   "source": [
    "```\n",
    "# notes/models.py\n",
    "from django.db import models\n",
    "\n",
    "class Note(models.Model):\n",
    "    title = models.CharField(max_length=255)\n",
    "    body = models.TextField()\n",
    "    created_at = models.DateTimeField(auto_now_add=True)\n",
    "```"
   ]
  },
  {
   "cell_type": "markdown",
   "metadata": {
    "slideshow": {
     "slide_type": "fragment"
    }
   },
   "source": [
    "### Создать и применить миграции\n",
    "python manage.py makemigrations  \n",
    "python manage.py migrate"
   ]
  },
  {
   "cell_type": "markdown",
   "metadata": {
    "slideshow": {
     "slide_type": "subslide"
    }
   },
   "source": [
    "## Django админ панель"
   ]
  },
  {
   "cell_type": "markdown",
   "metadata": {
    "slideshow": {
     "slide_type": "fragment"
    }
   },
   "source": [
    "```\n",
    "# notes/admin.py\n",
    "\n",
    "from django.contrib import admin\n",
    "\n",
    "# импортируем нашу модель\n",
    "from notes.models import Note\n",
    "\n",
    "# Регистрируем нашу модель в админ панели\n",
    "admin.site.register(Note)\n",
    "\n",
    "```"
   ]
  },
  {
   "cell_type": "markdown",
   "metadata": {
    "slideshow": {
     "slide_type": "fragment"
    }
   },
   "source": [
    "### Создаём пользователя"
   ]
  },
  {
   "cell_type": "markdown",
   "metadata": {
    "slideshow": {
     "slide_type": "fragment"
    }
   },
   "source": [
    "python manage.py createsuperuser"
   ]
  },
  {
   "cell_type": "markdown",
   "metadata": {
    "slideshow": {
     "slide_type": "fragment"
    }
   },
   "source": [
    "### Запускаем сервер и проверям\n",
    "python manage.py runserver"
   ]
  },
  {
   "cell_type": "markdown",
   "metadata": {
    "slideshow": {
     "slide_type": "fragment"
    }
   },
   "source": [
    "http://127.0.0.1:8000/admin/"
   ]
  }
 ],
 "metadata": {
  "celltoolbar": "Slideshow",
  "kernelspec": {
   "display_name": "Python 3",
   "language": "python",
   "name": "python3"
  },
  "language_info": {
   "codemirror_mode": {
    "name": "ipython",
    "version": 3
   },
   "file_extension": ".py",
   "mimetype": "text/x-python",
   "name": "python",
   "nbconvert_exporter": "python",
   "pygments_lexer": "ipython3",
   "version": "3.6.5"
  }
 },
 "nbformat": 4,
 "nbformat_minor": 2
}
