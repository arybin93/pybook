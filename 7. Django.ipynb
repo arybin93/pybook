{
 "cells": [
  {
   "cell_type": "markdown",
   "metadata": {
    "slideshow": {
     "slide_type": "slide"
    }
   },
   "source": [
    "![title](image/2712757.jpg)"
   ]
  },
  {
   "cell_type": "markdown",
   "metadata": {
    "slideshow": {
     "slide_type": "slide"
    }
   },
   "source": [
    "# Стартовая страница\n",
    "\n",
    "python manage.py runserver  \n",
    "http://127.0.0.1:8000/"
   ]
  },
  {
   "cell_type": "markdown",
   "metadata": {
    "slideshow": {
     "slide_type": "subslide"
    }
   },
   "source": [
    "![title](image/django.png)"
   ]
  },
  {
   "cell_type": "markdown",
   "metadata": {},
   "source": [
    "![title](image/Django-Flow.jpg)"
   ]
  },
  {
   "cell_type": "markdown",
   "metadata": {
    "slideshow": {
     "slide_type": "slide"
    }
   },
   "source": [
    "# Создадим собственную View"
   ]
  },
  {
   "cell_type": "code",
   "execution_count": null,
   "metadata": {
    "slideshow": {
     "slide_type": "subslide"
    }
   },
   "outputs": [],
   "source": [
    "# notes/views.py¶ \n",
    "from django.http import HttpResponse\n",
    "\n",
    "def index(request):\n",
    "    return HttpResponse(\"My notes\")"
   ]
  },
  {
   "cell_type": "markdown",
   "metadata": {},
   "source": [
    "### URL dispatcher"
   ]
  },
  {
   "cell_type": "code",
   "execution_count": null,
   "metadata": {
    "slideshow": {
     "slide_type": "fragment"
    }
   },
   "outputs": [],
   "source": [
    "# Создать файл notes/urls.py\n",
    "from django.urls import path\n",
    "from . import views\n",
    "\n",
    "urlpatterns = [\n",
    "    path('', views.index, name='index'),\n",
    "]"
   ]
  },
  {
   "cell_type": "code",
   "execution_count": null,
   "metadata": {
    "slideshow": {
     "slide_type": "fragment"
    }
   },
   "outputs": [],
   "source": [
    "# mysite/urls.py\n",
    "from django.contrib import admin\n",
    "from django.urls import path, include\n",
    "\n",
    "urlpatterns = [\n",
    "    path('', include('notes.urls')), # добавили пути из нашего приложения\n",
    "    path('admin/', admin.site.urls),\n",
    "]"
   ]
  },
  {
   "cell_type": "markdown",
   "metadata": {
    "slideshow": {
     "slide_type": "subslide"
    }
   },
   "source": [
    "# Проверяем\n",
    "\n",
    "python manage.py runserver  \n",
    "http://127.0.0.1:8000/"
   ]
  },
  {
   "cell_type": "markdown",
   "metadata": {
    "slideshow": {
     "slide_type": "subslide"
    }
   },
   "source": [
    "# QuerySet"
   ]
  },
  {
   "cell_type": "code",
   "execution_count": null,
   "metadata": {
    "slideshow": {
     "slide_type": "fragment"
    }
   },
   "outputs": [],
   "source": [
    "notes = Note.objects.all() # получить все заметки"
   ]
  },
  {
   "cell_type": "code",
   "execution_count": null,
   "metadata": {
    "slideshow": {
     "slide_type": "subslide"
    }
   },
   "outputs": [],
   "source": [
    "# notes/views.py\n",
    "\n",
    "def index(request):\n",
    "    # Получить все заметки\n",
    "    notes = Note.objects.all()\n",
    "\n",
    "    # Получичить список заголовков заметок\n",
    "    titles = []\n",
    "    for note in notes:\n",
    "        titles.append(note.title)\n",
    "\n",
    "    # формируем строку\n",
    "    result = ', '.join(titles)\n",
    "\n",
    "    return HttpResponse(\"My notes: {}\".format(result))"
   ]
  },
  {
   "cell_type": "markdown",
   "metadata": {
    "slideshow": {
     "slide_type": "subslide"
    }
   },
   "source": [
    "# Template"
   ]
  },
  {
   "cell_type": "markdown",
   "metadata": {
    "slideshow": {
     "slide_type": "fragment"
    }
   },
   "source": [
    "1. Создадим папку templates в нашем приложении notes\n",
    "2. В созданной папке templates, создаём папку notes\n",
    "3. Создаём файл index.html"
   ]
  },
  {
   "cell_type": "code",
   "execution_count": null,
   "metadata": {
    "slideshow": {
     "slide_type": "fragment"
    }
   },
   "outputs": [],
   "source": [
    "# notes/templates/notes/index.html\n",
    "<h1>Мои заметки:</h1>\n",
    "<ul>\n",
    "    {% for note in notes %}\n",
    "        <li>{{ note.title }}\n",
    "        <p>{{ note.body }}</p>        \n",
    "        </li>\n",
    "    {% endfor %}\n",
    "</ul>"
   ]
  },
  {
   "cell_type": "code",
   "execution_count": null,
   "metadata": {
    "slideshow": {
     "slide_type": "subslide"
    }
   },
   "outputs": [],
   "source": [
    "# notes/views.py\n",
    "from django.shortcuts import render\n",
    "from django.http import HttpResponse\n",
    "\n",
    "# import models\n",
    "from .models import Note\n",
    "\n",
    "# import render for templates\n",
    "from django.shortcuts import render\n",
    "\n",
    "def index(request):\n",
    "    # Получить все заметки:\n",
    "    notes = Note.objects.all()\n",
    "    \n",
    "    # Определить словать для передачи контекста\n",
    "    context = {\n",
    "        'notes': notes\n",
    "    }\n",
    "    # отрисовываем template с контекстом\n",
    "    return render(request, 'notes/index.html', context)\n"
   ]
  },
  {
   "cell_type": "markdown",
   "metadata": {
    "slideshow": {
     "slide_type": "slide"
    }
   },
   "source": [
    "## Собственное API"
   ]
  },
  {
   "cell_type": "markdown",
   "metadata": {
    "slideshow": {
     "slide_type": "subslide"
    }
   },
   "source": [
    "pip install djangorestframework"
   ]
  },
  {
   "cell_type": "code",
   "execution_count": null,
   "metadata": {
    "slideshow": {
     "slide_type": "fragment"
    }
   },
   "outputs": [],
   "source": [
    "INSTALLED_APPS = [\n",
    "    ...\n",
    "    'django.contrib.messages',\n",
    "    'django.contrib.staticfiles',\n",
    "    \n",
    "    'rest_framework',\n",
    "    'notes',\n",
    "]"
   ]
  },
  {
   "cell_type": "markdown",
   "metadata": {
    "slideshow": {
     "slide_type": "subslide"
    }
   },
   "source": [
    "Создадим файл в notes/serializers.py"
   ]
  },
  {
   "cell_type": "code",
   "execution_count": null,
   "metadata": {
    "slideshow": {
     "slide_type": "fragment"
    }
   },
   "outputs": [],
   "source": [
    "# notes/serializers.py\n",
    "from rest_framework import serializers\n",
    "\n",
    "from .models import Note\n",
    "\n",
    "\n",
    "class NoteSerializer(serializers.ModelSerializer):\n",
    "\n",
    "    class Meta:\n",
    "        model = Note\n",
    "        fields = ('id', 'title', 'body', 'created_at')"
   ]
  },
  {
   "cell_type": "code",
   "execution_count": null,
   "metadata": {
    "slideshow": {
     "slide_type": "subslide"
    }
   },
   "outputs": [],
   "source": [
    "# notes/views.py\n",
    "\n",
    "...\n",
    "\n",
    "from .models import Note\n",
    "from rest_framework import viewsets\n",
    "from .serializers import NoteSerializer\n",
    "\n",
    "\n",
    "class NoteViewSet(viewsets.ModelViewSet):\n",
    "    queryset = Note.objects.all().order_by('-created_at')\n",
    "    serializer_class = NoteSerializer"
   ]
  },
  {
   "cell_type": "code",
   "execution_count": null,
   "metadata": {
    "slideshow": {
     "slide_type": "subslide"
    }
   },
   "outputs": [],
   "source": [
    "Создадим файл notes/router.py\n",
    "\n",
    "# notes/router.py\n",
    "from rest_framework import routers\n",
    "from .views import NoteViewSet\n",
    "\n",
    "# Создаем router\n",
    "router = routers.DefaultRouter()\n",
    "\n",
    "# регистрируем наш ViewSet\n",
    "router.register('notes', NoteViewSet)\n",
    "\n",
    "api_urls = router.urls"
   ]
  },
  {
   "cell_type": "code",
   "execution_count": null,
   "metadata": {
    "slideshow": {
     "slide_type": "subslide"
    }
   },
   "outputs": [],
   "source": [
    "# notes/urls.py\n",
    "\n",
    "from django.urls import path, include\n",
    "from . import views\n",
    "\n",
    "from .router import api_urls\n",
    "\n",
    "urlpatterns = [\n",
    "    path('api/v1/', include(api_urls)),\n",
    "    path('', views.index, name='index'),\n",
    "]"
   ]
  },
  {
   "cell_type": "markdown",
   "metadata": {
    "slideshow": {
     "slide_type": "subslide"
    }
   },
   "source": [
    "# Проверяем:  \n",
    "python manage.py runserver  \n",
    "http://localhost:8000/api/v1/notes/  "
   ]
  }
 ],
 "metadata": {
  "celltoolbar": "Slideshow",
  "kernelspec": {
   "display_name": "Python 3",
   "language": "python",
   "name": "python3"
  },
  "language_info": {
   "codemirror_mode": {
    "name": "ipython",
    "version": 3
   },
   "file_extension": ".py",
   "mimetype": "text/x-python",
   "name": "python",
   "nbconvert_exporter": "python",
   "pygments_lexer": "ipython3",
   "version": "3.6.5"
  }
 },
 "nbformat": 4,
 "nbformat_minor": 2
}
